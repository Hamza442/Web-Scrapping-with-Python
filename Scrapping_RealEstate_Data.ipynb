{
 "cells": [
  {
   "cell_type": "markdown",
   "metadata": {},
   "source": [
    "### Imports"
   ]
  },
  {
   "cell_type": "code",
   "execution_count": 1,
   "metadata": {},
   "outputs": [],
   "source": [
    "from bs4 import BeautifulSoup \n",
    "import requests\n",
    "import pandas as pd"
   ]
  },
  {
   "cell_type": "markdown",
   "metadata": {},
   "source": [
    "### HTTP Request"
   ]
  },
  {
   "cell_type": "markdown",
   "metadata": {},
   "source": [
    "#### store website in variable"
   ]
  },
  {
   "cell_type": "code",
   "execution_count": 2,
   "metadata": {},
   "outputs": [],
   "source": [
    "website = 'https://www.trulia.com/CA/San_Francisco/'"
   ]
  },
  {
   "cell_type": "markdown",
   "metadata": {},
   "source": [
    "#### Get Request"
   ]
  },
  {
   "cell_type": "code",
   "execution_count": 3,
   "metadata": {},
   "outputs": [],
   "source": [
    "response=requests.get(website)"
   ]
  },
  {
   "cell_type": "markdown",
   "metadata": {},
   "source": [
    "#### Status Code"
   ]
  },
  {
   "cell_type": "code",
   "execution_count": 4,
   "metadata": {},
   "outputs": [
    {
     "data": {
      "text/plain": [
       "200"
      ]
     },
     "execution_count": 4,
     "metadata": {},
     "output_type": "execute_result"
    }
   ],
   "source": [
    "response.status_code"
   ]
  },
  {
   "cell_type": "markdown",
   "metadata": {},
   "source": [
    "### Soup Object"
   ]
  },
  {
   "cell_type": "code",
   "execution_count": 5,
   "metadata": {},
   "outputs": [],
   "source": [
    "soup = BeautifulSoup(response.content,'html.parser')"
   ]
  },
  {
   "cell_type": "code",
   "execution_count": 6,
   "metadata": {},
   "outputs": [],
   "source": [
    "#soup"
   ]
  },
  {
   "cell_type": "markdown",
   "metadata": {},
   "source": [
    "### Results"
   ]
  },
  {
   "cell_type": "code",
   "execution_count": 7,
   "metadata": {},
   "outputs": [],
   "source": [
    "result = soup.find_all('li',{'class':'SearchResultsList__WideCell-b7y9ki-2'})"
   ]
  },
  {
   "cell_type": "code",
   "execution_count": 8,
   "metadata": {},
   "outputs": [
    {
     "data": {
      "text/plain": [
       "32"
      ]
     },
     "execution_count": 8,
     "metadata": {},
     "output_type": "execute_result"
    }
   ],
   "source": [
    "len(result)"
   ]
  },
  {
   "cell_type": "code",
   "execution_count": 9,
   "metadata": {},
   "outputs": [],
   "source": [
    "# on page we have 30 elements but we are getting 32 we need to change select criteria"
   ]
  },
  {
   "cell_type": "markdown",
   "metadata": {},
   "source": [
    "#### Update Result"
   ]
  },
  {
   "cell_type": "code",
   "execution_count": 10,
   "metadata": {},
   "outputs": [],
   "source": [
    "results_update = []"
   ]
  },
  {
   "cell_type": "code",
   "execution_count": 11,
   "metadata": {},
   "outputs": [],
   "source": [
    "for i in  result:\n",
    "    if i.has_attr('data-testid'):\n",
    "        results_update.append(i)"
   ]
  },
  {
   "cell_type": "code",
   "execution_count": 12,
   "metadata": {},
   "outputs": [
    {
     "data": {
      "text/plain": [
       "30"
      ]
     },
     "execution_count": 12,
     "metadata": {},
     "output_type": "execute_result"
    }
   ],
   "source": [
    "len(results_update)"
   ]
  },
  {
   "cell_type": "markdown",
   "metadata": {},
   "source": [
    "#### Target Necessary Data"
   ]
  },
  {
   "cell_type": "code",
   "execution_count": 13,
   "metadata": {},
   "outputs": [
    {
     "data": {
      "text/plain": [
       "'4366 25th St'"
      ]
     },
     "execution_count": 13,
     "metadata": {},
     "output_type": "execute_result"
    }
   ],
   "source": [
    "#Street\n",
    "results_update[0].find('div',{'data-testid':'property-street'}).get_text()"
   ]
  },
  {
   "cell_type": "code",
   "execution_count": 14,
   "metadata": {},
   "outputs": [
    {
     "data": {
      "text/plain": [
       "'Noe Valley, San Francisco, CA'"
      ]
     },
     "execution_count": 14,
     "metadata": {},
     "output_type": "execute_result"
    }
   ],
   "source": [
    "# region\n",
    "results_update[0].find('div',{'data-testid':'property-region'}).get_text()"
   ]
  },
  {
   "cell_type": "code",
   "execution_count": 15,
   "metadata": {},
   "outputs": [
    {
     "data": {
      "text/plain": [
       "'3bd'"
      ]
     },
     "execution_count": 15,
     "metadata": {},
     "output_type": "execute_result"
    }
   ],
   "source": [
    "# bedrooms\n",
    "results_update[0].find('div',{'data-testid':'property-beds'}).get_text()"
   ]
  },
  {
   "cell_type": "code",
   "execution_count": 16,
   "metadata": {},
   "outputs": [
    {
     "data": {
      "text/plain": [
       "'2ba'"
      ]
     },
     "execution_count": 16,
     "metadata": {},
     "output_type": "execute_result"
    }
   ],
   "source": [
    "# bath-rooms\n",
    "results_update[0].find('div',{'data-testid':'property-baths'}).get_text()"
   ]
  },
  {
   "cell_type": "code",
   "execution_count": 17,
   "metadata": {},
   "outputs": [
    {
     "data": {
      "text/plain": [
       "'$1,795,000'"
      ]
     },
     "execution_count": 17,
     "metadata": {},
     "output_type": "execute_result"
    }
   ],
   "source": [
    "# price\n",
    "# bedrooms\n",
    "results_update[0].find('div',{'data-testid':'property-price'}).get_text()"
   ]
  },
  {
   "cell_type": "markdown",
   "metadata": {},
   "source": [
    "#### Append Results in List"
   ]
  },
  {
   "cell_type": "code",
   "execution_count": 18,
   "metadata": {},
   "outputs": [],
   "source": [
    "streets=[result.find('div',{'data-testid':'property-street'}).get_text() for result in results_update]"
   ]
  },
  {
   "cell_type": "code",
   "execution_count": 19,
   "metadata": {},
   "outputs": [
    {
     "data": {
      "text/plain": [
       "30"
      ]
     },
     "execution_count": 19,
     "metadata": {},
     "output_type": "execute_result"
    }
   ],
   "source": [
    "len(streets)"
   ]
  },
  {
   "cell_type": "code",
   "execution_count": 20,
   "metadata": {},
   "outputs": [
    {
     "data": {
      "text/plain": [
       "['4366 25th St',\n",
       " '990 Hollister Ave',\n",
       " '2018 42nd Ave',\n",
       " '70 Crestlake Dr',\n",
       " '2695 23rd Ave',\n",
       " '45 Capra Way',\n",
       " '2582 Filbert St',\n",
       " '42 Mars St',\n",
       " '520 Miramar Ave',\n",
       " '720 Laguna Honda Blvd',\n",
       " '2698 Pacific Ave',\n",
       " '1836 Mason St',\n",
       " '1879 23rd Ave',\n",
       " '461 2nd St #C303',\n",
       " '870 Harrison St #405',\n",
       " '1468 Van Dyke Ave',\n",
       " '348 Eureka St',\n",
       " '1921 Washington St',\n",
       " '882 Moultrie St',\n",
       " '224 Sea Cliff Ave',\n",
       " '4440 20th St',\n",
       " '1700 Cayuga Ave',\n",
       " '607-607A Arkansas St',\n",
       " '662 Hearst Ave',\n",
       " '2219 Pacific Ave',\n",
       " '600 Gates St',\n",
       " '4366 26th St',\n",
       " '126 Clayton St',\n",
       " '2828 Vallejo St',\n",
       " '333 Haight St #3']"
      ]
     },
     "execution_count": 20,
     "metadata": {},
     "output_type": "execute_result"
    }
   ],
   "source": [
    "streets"
   ]
  },
  {
   "cell_type": "code",
   "execution_count": 21,
   "metadata": {},
   "outputs": [],
   "source": [
    "regions=[result.find('div',{'data-testid':'property-region'}).get_text() for result in results_update]\n",
    "beds=[result.find('div',{'data-testid':'property-beds'}).get_text() for result in results_update]\n",
    "baths=[result.find('div',{'data-testid':'property-baths'}).get_text() for result in results_update]\n",
    "prices=[result.find('div',{'data-testid':'property-price'}).get_text().strip() for result in results_update]"
   ]
  },
  {
   "cell_type": "code",
   "execution_count": 22,
   "metadata": {},
   "outputs": [
    {
     "name": "stdout",
     "output_type": "stream",
     "text": [
      "30\n",
      "30\n",
      "30\n",
      "30\n"
     ]
    }
   ],
   "source": [
    "print(len(regions))\n",
    "print(len(beds))\n",
    "print(len(baths))\n",
    "print(len(prices))"
   ]
  },
  {
   "cell_type": "markdown",
   "metadata": {},
   "source": [
    "### Create DataFrame"
   ]
  },
  {
   "cell_type": "code",
   "execution_count": 23,
   "metadata": {},
   "outputs": [],
   "source": [
    "real_estate=pd.DataFrame({'Street':streets,'Region':regions,'Bedrooms':beds,'Bathrooms':baths,'Price':prices})"
   ]
  },
  {
   "cell_type": "code",
   "execution_count": 24,
   "metadata": {},
   "outputs": [
    {
     "data": {
      "text/html": [
       "<div>\n",
       "<style scoped>\n",
       "    .dataframe tbody tr th:only-of-type {\n",
       "        vertical-align: middle;\n",
       "    }\n",
       "\n",
       "    .dataframe tbody tr th {\n",
       "        vertical-align: top;\n",
       "    }\n",
       "\n",
       "    .dataframe thead th {\n",
       "        text-align: right;\n",
       "    }\n",
       "</style>\n",
       "<table border=\"1\" class=\"dataframe\">\n",
       "  <thead>\n",
       "    <tr style=\"text-align: right;\">\n",
       "      <th></th>\n",
       "      <th>Street</th>\n",
       "      <th>Region</th>\n",
       "      <th>Bedrooms</th>\n",
       "      <th>Bathrooms</th>\n",
       "      <th>Price</th>\n",
       "    </tr>\n",
       "  </thead>\n",
       "  <tbody>\n",
       "    <tr>\n",
       "      <th>0</th>\n",
       "      <td>4366 25th St</td>\n",
       "      <td>Noe Valley, San Francisco, CA</td>\n",
       "      <td>3bd</td>\n",
       "      <td>2ba</td>\n",
       "      <td>$1,795,000</td>\n",
       "    </tr>\n",
       "    <tr>\n",
       "      <th>1</th>\n",
       "      <td>990 Hollister Ave</td>\n",
       "      <td>Bret Harte, San Francisco, CA</td>\n",
       "      <td>3bd</td>\n",
       "      <td>2ba</td>\n",
       "      <td>$859,000</td>\n",
       "    </tr>\n",
       "    <tr>\n",
       "      <th>2</th>\n",
       "      <td>2018 42nd Ave</td>\n",
       "      <td>Outer Sunset, San Francisco, CA</td>\n",
       "      <td>2bd</td>\n",
       "      <td>1ba</td>\n",
       "      <td>$899,000</td>\n",
       "    </tr>\n",
       "    <tr>\n",
       "      <th>3</th>\n",
       "      <td>70 Crestlake Dr</td>\n",
       "      <td>Parkside, San Francisco, CA</td>\n",
       "      <td>3bd</td>\n",
       "      <td>3ba</td>\n",
       "      <td>$1,495,000</td>\n",
       "    </tr>\n",
       "    <tr>\n",
       "      <th>4</th>\n",
       "      <td>2695 23rd Ave</td>\n",
       "      <td>Parkside, San Francisco, CA</td>\n",
       "      <td>4bd</td>\n",
       "      <td>3ba</td>\n",
       "      <td>$1,399,000</td>\n",
       "    </tr>\n",
       "  </tbody>\n",
       "</table>\n",
       "</div>"
      ],
      "text/plain": [
       "              Street                           Region Bedrooms Bathrooms  \\\n",
       "0       4366 25th St    Noe Valley, San Francisco, CA      3bd       2ba   \n",
       "1  990 Hollister Ave    Bret Harte, San Francisco, CA      3bd       2ba   \n",
       "2      2018 42nd Ave  Outer Sunset, San Francisco, CA      2bd       1ba   \n",
       "3    70 Crestlake Dr      Parkside, San Francisco, CA      3bd       3ba   \n",
       "4      2695 23rd Ave      Parkside, San Francisco, CA      4bd       3ba   \n",
       "\n",
       "        Price  \n",
       "0  $1,795,000  \n",
       "1    $859,000  \n",
       "2    $899,000  \n",
       "3  $1,495,000  \n",
       "4  $1,399,000  "
      ]
     },
     "execution_count": 24,
     "metadata": {},
     "output_type": "execute_result"
    }
   ],
   "source": [
    "real_estate.head()"
   ]
  },
  {
   "cell_type": "markdown",
   "metadata": {},
   "source": [
    "#### OutPut Excel"
   ]
  },
  {
   "cell_type": "code",
   "execution_count": 25,
   "metadata": {},
   "outputs": [],
   "source": [
    "real_estate.to_excel('real_estate_page_1.xlsx',index=False)"
   ]
  },
  {
   "cell_type": "markdown",
   "metadata": {},
   "source": [
    "#### Scrapping Multiple Pages"
   ]
  },
  {
   "cell_type": "code",
   "execution_count": 27,
   "metadata": {},
   "outputs": [],
   "source": [
    "real_estate_new = pd.DataFrame(columns=['Street','Region','Bedrooms','Bathrooms','Price'])\n",
    "for i in range(1,4):\n",
    "    new_website=requests.get('https://www.trulia.com/CA/San_Francisco/'+str(i)+'_p/')\n",
    "    new_soup = BeautifulSoup(new_website.content,'html.parser')\n",
    "    new_result = new_soup.find_all('li',{'class':'SearchResultsList__WideCell-b7y9ki-2'})\n",
    "    new_results_update=[]\n",
    "    \n",
    "    for r in new_result:\n",
    "        if r.has_attr('data-testid'):\n",
    "            new_results_update.append(r)\n",
    "    streets=[result.find('div',{'data-testid':'property-street'}).get_text() for result in new_results_update]\n",
    "    regions=[result.find('div',{'data-testid':'property-region'}).get_text() for result in new_results_update]\n",
    "    beds=[result.find('div',{'data-testid':'property-beds'}).get_text() for result in new_results_update]\n",
    "    baths=[result.find('div',{'data-testid':'property-baths'}).get_text() for result in new_results_update]\n",
    "    prices=[result.find('div',{'data-testid':'property-price'}).get_text().strip() for result in new_results_update]\n",
    "    \n",
    "    for k in range(len(streets)):\n",
    "        real_estate_new=real_estate_new.append({'Street':streets[k],'Region':regions[k],'Bedrooms':beds[k],'Bathrooms':baths[k],\n",
    "                                                'Price':prices[k]},ignore_index=True\n",
    "                                              )"
   ]
  },
  {
   "cell_type": "code",
   "execution_count": 28,
   "metadata": {},
   "outputs": [
    {
     "data": {
      "text/html": [
       "<div>\n",
       "<style scoped>\n",
       "    .dataframe tbody tr th:only-of-type {\n",
       "        vertical-align: middle;\n",
       "    }\n",
       "\n",
       "    .dataframe tbody tr th {\n",
       "        vertical-align: top;\n",
       "    }\n",
       "\n",
       "    .dataframe thead th {\n",
       "        text-align: right;\n",
       "    }\n",
       "</style>\n",
       "<table border=\"1\" class=\"dataframe\">\n",
       "  <thead>\n",
       "    <tr style=\"text-align: right;\">\n",
       "      <th></th>\n",
       "      <th>Street</th>\n",
       "      <th>Region</th>\n",
       "      <th>Bedrooms</th>\n",
       "      <th>Bathrooms</th>\n",
       "      <th>Price</th>\n",
       "    </tr>\n",
       "  </thead>\n",
       "  <tbody>\n",
       "    <tr>\n",
       "      <th>0</th>\n",
       "      <td>4366 25th St</td>\n",
       "      <td>Noe Valley, San Francisco, CA</td>\n",
       "      <td>3bd</td>\n",
       "      <td>5ba</td>\n",
       "      <td>$1,795,000</td>\n",
       "    </tr>\n",
       "    <tr>\n",
       "      <th>1</th>\n",
       "      <td>990 Hollister Ave</td>\n",
       "      <td>Bret Harte, San Francisco, CA</td>\n",
       "      <td>3bd</td>\n",
       "      <td>2ba</td>\n",
       "      <td>$859,000</td>\n",
       "    </tr>\n",
       "    <tr>\n",
       "      <th>2</th>\n",
       "      <td>2018 42nd Ave</td>\n",
       "      <td>Outer Sunset, San Francisco, CA</td>\n",
       "      <td>2bd</td>\n",
       "      <td>6ba</td>\n",
       "      <td>$899,000</td>\n",
       "    </tr>\n",
       "    <tr>\n",
       "      <th>3</th>\n",
       "      <td>70 Crestlake Dr</td>\n",
       "      <td>Parkside, San Francisco, CA</td>\n",
       "      <td>3bd</td>\n",
       "      <td>2ba</td>\n",
       "      <td>$1,495,000</td>\n",
       "    </tr>\n",
       "    <tr>\n",
       "      <th>4</th>\n",
       "      <td>2695 23rd Ave</td>\n",
       "      <td>Parkside, San Francisco, CA</td>\n",
       "      <td>4bd</td>\n",
       "      <td>3ba</td>\n",
       "      <td>$1,399,000</td>\n",
       "    </tr>\n",
       "  </tbody>\n",
       "</table>\n",
       "</div>"
      ],
      "text/plain": [
       "              Street                           Region Bedrooms Bathrooms  \\\n",
       "0       4366 25th St    Noe Valley, San Francisco, CA      3bd       5ba   \n",
       "1  990 Hollister Ave    Bret Harte, San Francisco, CA      3bd       2ba   \n",
       "2      2018 42nd Ave  Outer Sunset, San Francisco, CA      2bd       6ba   \n",
       "3    70 Crestlake Dr      Parkside, San Francisco, CA      3bd       2ba   \n",
       "4      2695 23rd Ave      Parkside, San Francisco, CA      4bd       3ba   \n",
       "\n",
       "        Price  \n",
       "0  $1,795,000  \n",
       "1    $859,000  \n",
       "2    $899,000  \n",
       "3  $1,495,000  \n",
       "4  $1,399,000  "
      ]
     },
     "execution_count": 28,
     "metadata": {},
     "output_type": "execute_result"
    }
   ],
   "source": [
    "real_estate_new.head()"
   ]
  },
  {
   "cell_type": "code",
   "execution_count": 29,
   "metadata": {},
   "outputs": [
    {
     "name": "stdout",
     "output_type": "stream",
     "text": [
      "<class 'pandas.core.frame.DataFrame'>\n",
      "RangeIndex: 90 entries, 0 to 89\n",
      "Data columns (total 5 columns):\n",
      " #   Column     Non-Null Count  Dtype \n",
      "---  ------     --------------  ----- \n",
      " 0   Street     90 non-null     object\n",
      " 1   Region     90 non-null     object\n",
      " 2   Bedrooms   90 non-null     object\n",
      " 3   Bathrooms  90 non-null     object\n",
      " 4   Price      90 non-null     object\n",
      "dtypes: object(5)\n",
      "memory usage: 3.6+ KB\n"
     ]
    }
   ],
   "source": [
    "real_estate_new.info()"
   ]
  },
  {
   "cell_type": "code",
   "execution_count": 30,
   "metadata": {},
   "outputs": [
    {
     "data": {
      "text/html": [
       "<div>\n",
       "<style scoped>\n",
       "    .dataframe tbody tr th:only-of-type {\n",
       "        vertical-align: middle;\n",
       "    }\n",
       "\n",
       "    .dataframe tbody tr th {\n",
       "        vertical-align: top;\n",
       "    }\n",
       "\n",
       "    .dataframe thead th {\n",
       "        text-align: right;\n",
       "    }\n",
       "</style>\n",
       "<table border=\"1\" class=\"dataframe\">\n",
       "  <thead>\n",
       "    <tr style=\"text-align: right;\">\n",
       "      <th></th>\n",
       "      <th>Street</th>\n",
       "      <th>Region</th>\n",
       "      <th>Bedrooms</th>\n",
       "      <th>Bathrooms</th>\n",
       "      <th>Price</th>\n",
       "    </tr>\n",
       "  </thead>\n",
       "  <tbody>\n",
       "    <tr>\n",
       "      <th>0</th>\n",
       "      <td>4366 25th St</td>\n",
       "      <td>Noe Valley, San Francisco, CA</td>\n",
       "      <td>3</td>\n",
       "      <td>5</td>\n",
       "      <td>$1,795,000</td>\n",
       "    </tr>\n",
       "    <tr>\n",
       "      <th>1</th>\n",
       "      <td>990 Hollister Ave</td>\n",
       "      <td>Bret Harte, San Francisco, CA</td>\n",
       "      <td>3</td>\n",
       "      <td>2</td>\n",
       "      <td>$859,000</td>\n",
       "    </tr>\n",
       "    <tr>\n",
       "      <th>2</th>\n",
       "      <td>2018 42nd Ave</td>\n",
       "      <td>Outer Sunset, San Francisco, CA</td>\n",
       "      <td>2</td>\n",
       "      <td>6</td>\n",
       "      <td>$899,000</td>\n",
       "    </tr>\n",
       "    <tr>\n",
       "      <th>3</th>\n",
       "      <td>70 Crestlake Dr</td>\n",
       "      <td>Parkside, San Francisco, CA</td>\n",
       "      <td>3</td>\n",
       "      <td>2</td>\n",
       "      <td>$1,495,000</td>\n",
       "    </tr>\n",
       "    <tr>\n",
       "      <th>4</th>\n",
       "      <td>2695 23rd Ave</td>\n",
       "      <td>Parkside, San Francisco, CA</td>\n",
       "      <td>4</td>\n",
       "      <td>3</td>\n",
       "      <td>$1,399,000</td>\n",
       "    </tr>\n",
       "  </tbody>\n",
       "</table>\n",
       "</div>"
      ],
      "text/plain": [
       "              Street                           Region Bedrooms Bathrooms  \\\n",
       "0       4366 25th St    Noe Valley, San Francisco, CA        3         5   \n",
       "1  990 Hollister Ave    Bret Harte, San Francisco, CA        3         2   \n",
       "2      2018 42nd Ave  Outer Sunset, San Francisco, CA        2         6   \n",
       "3    70 Crestlake Dr      Parkside, San Francisco, CA        3         2   \n",
       "4      2695 23rd Ave      Parkside, San Francisco, CA        4         3   \n",
       "\n",
       "        Price  \n",
       "0  $1,795,000  \n",
       "1    $859,000  \n",
       "2    $899,000  \n",
       "3  $1,495,000  \n",
       "4  $1,399,000  "
      ]
     },
     "execution_count": 30,
     "metadata": {},
     "output_type": "execute_result"
    }
   ],
   "source": [
    "real_estate_new['Bedrooms']=real_estate_new['Bedrooms'].apply(lambda x:x.strip('bd'))\n",
    "real_estate_new['Bathrooms']=real_estate_new['Bathrooms'].apply(lambda x:x.strip('ba'))\n",
    "\n",
    "real_estate_new.head()"
   ]
  },
  {
   "cell_type": "code",
   "execution_count": null,
   "metadata": {},
   "outputs": [],
   "source": []
  }
 ],
 "metadata": {
  "kernelspec": {
   "display_name": "Python 3",
   "language": "python",
   "name": "python3"
  },
  "language_info": {
   "codemirror_mode": {
    "name": "ipython",
    "version": 3
   },
   "file_extension": ".py",
   "mimetype": "text/x-python",
   "name": "python",
   "nbconvert_exporter": "python",
   "pygments_lexer": "ipython3",
   "version": "3.8.8"
  }
 },
 "nbformat": 4,
 "nbformat_minor": 4
}
